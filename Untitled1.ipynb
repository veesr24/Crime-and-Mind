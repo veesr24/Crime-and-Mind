{
 "cells": [
  {
   "cell_type": "code",
   "execution_count": 15,
   "id": "5afaefaa",
   "metadata": {},
   "outputs": [],
   "source": [
    "import pandas as pd"
   ]
  },
  {
   "cell_type": "code",
   "execution_count": 16,
   "id": "7b5181dd",
   "metadata": {},
   "outputs": [],
   "source": [
    "# the number of jurors in Ontarian criminal cases is 12 jurors\n",
    "fname = 'population_characteristics_Toronto_2021_7.xlsx'\n",
    "sname = 'Visible Minority_REVISED'\n",
    "pop_df = pd.read_excel(fname, sheet_name = sname, header=11)"
   ]
  },
  {
   "cell_type": "code",
   "execution_count": 17,
   "id": "6d1031b9",
   "metadata": {},
   "outputs": [
    {
     "name": "stdout",
     "output_type": "stream",
     "text": [
      "Selected jurors:  {'white': 6, 'east_asian': 4, 'south_asian': 1, 'black': 1}\n"
     ]
    }
   ],
   "source": [
    "import random\n",
    "\n",
    "# Define demographic makeup percentages (as a proportion)\n",
    "demographics = {\n",
    "    \"white\": 50.2 / 100,\n",
    "    \"east_asian\": 12.7 / 100,\n",
    "    \"south_asian\": 12.3 / 100,\n",
    "    \"black\": 8.5 / 100\n",
    "    # ... include other demographics as needed\n",
    "}\n",
    "\n",
    "# Define the total population size\n",
    "total_population = 800000  # adjust as per your data\n",
    "\n",
    "# Generate a pool of potential jurors\n",
    "jury_pool = {\n",
    "    \"white\": int(demographics[\"white\"] * total_population),\n",
    "    \"east_asian\": int(demographics[\"east_asian\"] * total_population),\n",
    "    \"south_asian\": int(demographics[\"south_asian\"] * total_population),\n",
    "    \"black\": int(demographics[\"black\"] * total_population)\n",
    "    # ... and so on for other demographics\n",
    "}\n",
    "\n",
    "# Simulate jury selection\n",
    "def select_jurors(jury_pool, number_of_jurors=12):\n",
    "    selected_jurors = {\n",
    "        \"white\": 0,\n",
    "        \"east_asian\": 0,\n",
    "        \"south_asian\": 0,\n",
    "        \"black\": 0\n",
    "        # ... and so on for other demographics\n",
    "    }\n",
    "\n",
    "    for _ in range(number_of_jurors):\n",
    "        # This is a very basic random selection without any biases\n",
    "        demographic = random.choices(\n",
    "            list(jury_pool.keys()),\n",
    "            weights=jury_pool.values(),\n",
    "            k=1\n",
    "        )[0]\n",
    "        selected_jurors[demographic] += 1\n",
    "        jury_pool[demographic] -= 1  # remove the selected juror from the pool\n",
    "\n",
    "    return selected_jurors\n",
    "\n",
    "# Perform the simulation\n",
    "selected_jurors = select_jurors(jury_pool)\n",
    "print(\"Selected jurors: \", selected_jurors)\n"
   ]
  },
  {
   "cell_type": "code",
   "execution_count": 18,
   "id": "a5e3ef46",
   "metadata": {},
   "outputs": [
    {
     "data": {
      "text/plain": [
       "array([[4, 5, 2, 3, 5, 1]])"
      ]
     },
     "execution_count": 18,
     "metadata": {},
     "output_type": "execute_result"
    }
   ],
   "source": [
    "import numpy as np\n",
    "\n",
    "# number of times die is rolled\n",
    "sample_size = 20\n",
    "\n",
    "# number of experiments\n",
    "num_simulations = 1\n",
    "\n",
    "# probability of each side\n",
    "true_probabilities = [1 / 6] * 6\n",
    "\n",
    "# number of times each side appears\n",
    "counts = np.random.multinomial(sample_size, true_probabilities, size = num_simulations)\n",
    "\n",
    "counts"
   ]
  },
  {
   "cell_type": "code",
   "execution_count": 19,
   "id": "d459b2f5",
   "metadata": {},
   "outputs": [
    {
     "name": "stdout",
     "output_type": "stream",
     "text": [
      "Sample counts: \n",
      " [[4 5 2 3 5 1]]\n",
      "Sample proportions: \n",
      " [[0.2  0.25 0.1  0.15 0.25 0.05]]\n"
     ]
    }
   ],
   "source": [
    "proportions = counts / sample_size\n",
    "\n",
    "print('Sample counts: \\n', counts) \n",
    "print('Sample proportions: \\n', proportions)"
   ]
  },
  {
   "cell_type": "code",
   "execution_count": 20,
   "id": "ddc0799f",
   "metadata": {},
   "outputs": [
    {
     "name": "stdout",
     "output_type": "stream",
     "text": [
      "Sample counts:\n",
      " [[12 13 18 17 14 26]\n",
      " [13 10 10 17 16 34]\n",
      " [10 14 19 16 17 24]]\n",
      "Sample proportions: \n",
      " [[0.12 0.13 0.18 0.17 0.14 0.26]\n",
      " [0.13 0.1  0.1  0.17 0.16 0.34]\n",
      " [0.1  0.14 0.19 0.16 0.17 0.24]]\n"
     ]
    }
   ],
   "source": [
    "sample_size = 100\n",
    "\n",
    "num_simulations = 3\n",
    "\n",
    "true_probabilities = [1 / 7] * 5 + [2 / 7]\n",
    "\n",
    "counts = np.random.multinomial(sample_size, true_probabilities, size = num_simulations)\n",
    "\n",
    "proportions = counts / sample_size\n",
    "\n",
    "print('Sample counts:\\n', counts) \n",
    "print('Sample proportions: \\n', proportions)"
   ]
  },
  {
   "cell_type": "code",
   "execution_count": 21,
   "id": "1282e4a0",
   "metadata": {},
   "outputs": [
    {
     "data": {
      "text/plain": [
       "array([[23, 77]])"
      ]
     },
     "execution_count": 21,
     "metadata": {},
     "output_type": "execute_result"
    }
   ],
   "source": [
    "import numpy as np\n",
    "import pandas as pd\n",
    "\n",
    "sample_size = 100\n",
    "\n",
    "true_probabilities = [0.26, 0.74]\n",
    "\n",
    "num_simulations = 1\n",
    "\n",
    "counts = np.random.multinomial(sample_size, true_probabilities, size = num_simulations)\n",
    "\n",
    "counts"
   ]
  },
  {
   "cell_type": "code",
   "execution_count": 22,
   "id": "35737306",
   "metadata": {},
   "outputs": [
    {
     "name": "stdout",
     "output_type": "stream",
     "text": [
      "   Black  White\n",
      "0   0.23   0.77\n"
     ]
    },
    {
     "data": {
      "text/plain": [
       "0.23"
      ]
     },
     "execution_count": 22,
     "metadata": {},
     "output_type": "execute_result"
    }
   ],
   "source": [
    "proportions = counts / sample_size\n",
    "\n",
    "sim_counts = pd.DataFrame(proportions, columns = ['Black', 'White'])\n",
    "\n",
    "print(sim_counts)\n",
    "\n",
    "sim_counts.iloc[0,0]"
   ]
  },
  {
   "cell_type": "code",
   "execution_count": 23,
   "id": "f803afed",
   "metadata": {},
   "outputs": [
    {
     "name": "stdout",
     "output_type": "stream",
     "text": [
      "RangeIndex(start=0, stop=1, step=1)\n"
     ]
    }
   ],
   "source": [
    "print(sim_counts.index)"
   ]
  },
  {
   "cell_type": "code",
   "execution_count": 24,
   "id": "beab8425",
   "metadata": {},
   "outputs": [
    {
     "name": "stdout",
     "output_type": "stream",
     "text": [
      "0.77\n",
      "0.77\n"
     ]
    }
   ],
   "source": [
    "# row 0 column 1\n",
    "print(sim_counts.iloc[0, 1])\n",
    "\n",
    "# access row 0 column 1 using label names\n",
    "print(sim_counts.loc[0, 'White'])"
   ]
  },
  {
   "cell_type": "code",
   "execution_count": 25,
   "id": "e687e719",
   "metadata": {},
   "outputs": [
    {
     "name": "stdout",
     "output_type": "stream",
     "text": [
      "0.23\n",
      "0.23\n"
     ]
    }
   ],
   "source": [
    "print(sim_counts.iloc[0, 0])\n",
    "\n",
    "print(sim_counts.loc[0,'Black'])"
   ]
  },
  {
   "cell_type": "code",
   "execution_count": 26,
   "id": "0664456a",
   "metadata": {},
   "outputs": [],
   "source": [
    "def simulate_one_count():\n",
    "    sample_size = 100 # jury size\n",
    "\n",
    "    true_probabilities = [0.26, 0.74] #true prob of race\n",
    "    \n",
    "    num_simulations = 1 # number of simulations\n",
    "    # get the random counts\n",
    "    counts = np.random.multinomial(sample_size, true_probabilities, size = num_simulations) \n",
    "    \n",
    "    # store in data frame\n",
    "    sim_counts = pd.DataFrame(counts, columns = ['Black', 'White'])\n",
    "    \n",
    "    return sim_counts.iloc[0,0]\n"
   ]
  },
  {
   "cell_type": "code",
   "execution_count": 27,
   "id": "a67d3665",
   "metadata": {},
   "outputs": [
    {
     "data": {
      "text/plain": [
       "22"
      ]
     },
     "execution_count": 27,
     "metadata": {},
     "output_type": "execute_result"
    }
   ],
   "source": [
    "simulate_one_count()"
   ]
  },
  {
   "cell_type": "code",
   "execution_count": 28,
   "id": "aed9c484",
   "metadata": {},
   "outputs": [],
   "source": [
    "sim_counts = []\n",
    "\n",
    "number_sims = 10000\n",
    "\n",
    "for _ in np.arange(number_sims):\n",
    "    sim_counts.append(simulate_one_count())"
   ]
  },
  {
   "cell_type": "code",
   "execution_count": 29,
   "id": "38589031",
   "metadata": {},
   "outputs": [
    {
     "data": {
      "image/png": "[encoded data removed]",
      "text/plain": [
       "<Figure size 640x480 with 1 Axes>"
      ]
     },
     "metadata": {},
     "output_type": "display_data"
    }
   ],
   "source": [
    "import matplotlib.pyplot as plt\n",
    "\n",
    "plt.hist(sim_counts, bins = np.arange(5.5, 50, 1), edgecolor = 'black', \n",
    "         color = 'grey', density = True);\n",
    "plt.xlabel('Count in random sample')\n",
    "plt.ylabel('Frequency')\n",
    "plt.scatter(8, 0, color = 'orange', s = 150);"
   ]
  },
  {
   "cell_type": "code",
   "execution_count": 30,
   "id": "54b03301",
   "metadata": {},
   "outputs": [
    {
     "data": {
      "image/png": "[encoded data removed]",
      "text/plain": [
       "<Figure size 640x480 with 1 Axes>"
      ]
     },
     "metadata": {},
     "output_type": "display_data"
    },
    {
     "data": {
      "text/plain": [
       "count    10000.000000\n",
       "mean        24.825200\n",
       "std          4.332796\n",
       "min         10.000000\n",
       "25%         22.000000\n",
       "50%         25.000000\n",
       "75%         28.000000\n",
       "max         43.000000\n",
       "Name: Black, dtype: float64"
      ]
     },
     "execution_count": 30,
     "metadata": {},
     "output_type": "execute_result"
    }
   ],
   "source": [
    "import numpy as np\n",
    "import pandas as pd\n",
    "import matplotlib.pyplot as plt\n",
    "\n",
    "# Function to simulate one jury count based on the given probabilities\n",
    "def simulate_one_count(sample_size, true_probabilities):\n",
    "    counts = np.random.multinomial(sample_size, true_probabilities)\n",
    "    return counts\n",
    "\n",
    "# Initialize variables\n",
    "sample_size = 100  # Total number of jurors in each simulation\n",
    "true_probabilities = [0.502, 0.127, 0.123, 0.085]  # Probabilities for White, East Asian, South Asian, Black\n",
    "number_sims = 10000  # Number of simulations\n",
    "\n",
    "# Initialize list to collect simulation results\n",
    "jury_simulation_list = []\n",
    "\n",
    "# Run simulations\n",
    "for _ in range(number_sims):\n",
    "    jury_simulation_list.append(simulate_one_count(sample_size, true_probabilities))\n",
    "\n",
    "# Convert the list to a DataFrame\n",
    "jury_simulations = pd.DataFrame(jury_simulation_list, columns=['White', 'East Asian', 'South Asian', 'Black'])\n",
    "\n",
    "# Plot the histogram for the 'Black' demographic\n",
    "plt.hist(jury_simulations['Black'], bins=np.arange(jury_simulations['Black'].min(), jury_simulations['Black'].max() + 1), edgecolor='black', color='grey', density=True)\n",
    "plt.xlabel('Number of Black Jurors')\n",
    "plt.ylabel('Proportion of Simulations')\n",
    "plt.show()\n",
    "\n",
    "# Display the descriptive statistics for the 'Black' demographic\n",
    "jury_simulations['Black'].describe()\n"
   ]
  },
  {
   "cell_type": "code",
   "execution_count": 31,
   "id": "221fe4c8",
   "metadata": {},
   "outputs": [
    {
     "data": {
      "text/plain": [
       "count    10000.000000\n",
       "mean        50.246100\n",
       "std          4.898789\n",
       "min         32.000000\n",
       "25%         47.000000\n",
       "50%         50.000000\n",
       "75%         54.000000\n",
       "max         69.000000\n",
       "Name: White, dtype: float64"
      ]
     },
     "execution_count": 31,
     "metadata": {},
     "output_type": "execute_result"
    }
   ],
   "source": [
    "jury_simulations['White'].describe()"
   ]
  },
  {
   "cell_type": "code",
   "execution_count": 32,
   "id": "e9c3696f",
   "metadata": {},
   "outputs": [
    {
     "data": {
      "text/plain": [
       "count    10000.000000\n",
       "mean        12.264300\n",
       "std          3.272601\n",
       "min          2.000000\n",
       "25%         10.000000\n",
       "50%         12.000000\n",
       "75%         14.000000\n",
       "max         26.000000\n",
       "Name: South Asian, dtype: float64"
      ]
     },
     "execution_count": 32,
     "metadata": {},
     "output_type": "execute_result"
    }
   ],
   "source": [
    "jury_simulations['South Asian'].describe()"
   ]
  }
 ],
 "metadata": {
  "kernelspec": {
   "display_name": "Python 3 (ipykernel)",
   "language": "python",
   "name": "python3"
  },
  "language_info": {
   "codemirror_mode": {
    "name": "ipython",
    "version": 3
   },
   "file_extension": ".py",
   "mimetype": "text/x-python",
   "name": "python",
   "nbconvert_exporter": "python",
   "pygments_lexer": "ipython3",
   "version": "3.11.6"
  }
 },
 "nbformat": 4,
 "nbformat_minor": 5
}
